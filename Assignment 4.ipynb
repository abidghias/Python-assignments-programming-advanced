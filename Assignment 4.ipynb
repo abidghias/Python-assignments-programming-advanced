{
 "cells": [
  {
   "cell_type": "code",
   "execution_count": 37,
   "id": "under-triangle",
   "metadata": {},
   "outputs": [
    {
     "name": "stdout",
     "output_type": "stream",
     "text": [
      "6765\n"
     ]
    }
   ],
   "source": [
    "def fib(limit):\n",
    "    a = 1\n",
    "    b = 1\n",
    "    for i in range(limit):\n",
    "        yield a\n",
    "        a,b = b, a+b\n",
    "        \n",
    "print(list(fib(20))[-1])"
   ]
  },
  {
   "cell_type": "code",
   "execution_count": 151,
   "id": "micro-violence",
   "metadata": {},
   "outputs": [
    {
     "name": "stdout",
     "output_type": "stream",
     "text": [
      "4d 61 72 74 79 20 50 6f 70 70 69 6e 73 6f 6e \n"
     ]
    }
   ],
   "source": [
    "def convert_to_hex(x):\n",
    "    y  = list(x)\n",
    "    l = []\n",
    "    l1 = ''\n",
    "    for i in range(len(y)):\n",
    "        ascii_ = ord(y[i])        \n",
    "        hex_ = hex(ascii_).lstrip(\"0x\").rstrip(\"L\")\n",
    "        l1 += hex_ + ' '\n",
    "    print(l1)\n",
    "\n",
    "    \n",
    "convert_to_hex(\"Marty Poppinson\")"
   ]
  },
  {
   "cell_type": "code",
   "execution_count": 152,
   "id": "absent-venue",
   "metadata": {},
   "outputs": [
    {
     "name": "stdout",
     "output_type": "stream",
     "text": [
      "Where did my vowels go?\n"
     ]
    }
   ],
   "source": [
    "def uncensor(x,y):\n",
    "    x1 = list(x)\n",
    "    y1 = list(y)\n",
    "\n",
    "            \n",
    "    start = 0\n",
    "    j = 0\n",
    "    while start < len(x1):\n",
    "        if x1[start] == \"*\":\n",
    "            x1[start] = y1[j]\n",
    "            j += 1\n",
    "        \n",
    "        \n",
    "        \n",
    "        \n",
    "        start += 1\n",
    "    print(\"\".join(x1))\n",
    "\n",
    "uncensor(\"Wh*r* d*d my v*w*ls g*?\", \"eeioeo\")  "
   ]
  },
  {
   "cell_type": "code",
   "execution_count": 158,
   "id": "foster-default",
   "metadata": {},
   "outputs": [
    {
     "data": {
      "text/plain": [
       "'dns.google'"
      ]
     },
     "execution_count": 158,
     "metadata": {},
     "output_type": "execute_result"
    }
   ],
   "source": [
    "import socket\n",
    "socket.gethostbyaddr(\"8.8.8.8\")[0]"
   ]
  },
  {
   "cell_type": "code",
   "execution_count": 166,
   "id": "judicial-poker",
   "metadata": {},
   "outputs": [],
   "source": [
    "def fact(x):\n",
    "    \n",
    "    if x == 0:\n",
    "        return 1\n",
    "    else:\n",
    "        return x * fact(x-1)\n",
    "    \n",
    "def fact_of_fact(x):\n",
    "    if x == 0:\n",
    "        return 1\n",
    "    else:\n",
    "        return fact(x) * fact_of_fact(x-1)\n",
    "    \n",
    "fact_of_fact(5)"
   ]
  },
  {
   "cell_type": "code",
   "execution_count": 169,
   "id": "cloudy-animation",
   "metadata": {},
   "outputs": [],
   "source": []
  },
  {
   "cell_type": "code",
   "execution_count": null,
   "id": "crucial-linux",
   "metadata": {},
   "outputs": [],
   "source": []
  },
  {
   "cell_type": "code",
   "execution_count": null,
   "id": "academic-analysis",
   "metadata": {},
   "outputs": [],
   "source": []
  }
 ],
 "metadata": {
  "kernelspec": {
   "display_name": "Python 3",
   "language": "python",
   "name": "python3"
  },
  "language_info": {
   "codemirror_mode": {
    "name": "ipython",
    "version": 3
   },
   "file_extension": ".py",
   "mimetype": "text/x-python",
   "name": "python",
   "nbconvert_exporter": "python",
   "pygments_lexer": "ipython3",
   "version": "3.7.6"
  }
 },
 "nbformat": 4,
 "nbformat_minor": 5
}
