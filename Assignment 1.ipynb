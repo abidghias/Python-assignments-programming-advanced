{
 "cells": [
  {
   "cell_type": "code",
   "execution_count": 6,
   "id": "featured-squad",
   "metadata": {},
   "outputs": [
    {
     "data": {
      "text/plain": [
       "0"
      ]
     },
     "execution_count": 6,
     "metadata": {},
     "output_type": "execute_result"
    }
   ],
   "source": [
    "import itertools\n",
    "def check_score(x):\n",
    "    new_list = []\n",
    "    flat_list = list(itertools.chain(*x))\n",
    "    for i in flat_list:\n",
    "        if i == '#':\n",
    "            new_list.append(5)\n",
    "        elif i == 'O':\n",
    "            new_list.append(3)\n",
    "        elif i == 'X':\n",
    "            new_list.append(1)\n",
    "        elif i == '!':\n",
    "            new_list.append(-1)\n",
    "        elif i == '!!':\n",
    "            new_list.append(-3)\n",
    "        elif i == '!!!':\n",
    "            new_list.append(-5)\n",
    "    if sum(new_list) < 0:\n",
    "        return 0\n",
    "    return sum(new_list)\n",
    "            \n",
    "\n",
    "    \n",
    "\n",
    "    \n",
    "check_score([\n",
    "[\"!!!\", \"O\", \"!\"],\n",
    "[\"X\", \"#\", \"!!!\"],\n",
    "[\"!!\", \"X\", \"O\"]\n",
    "])"
   ]
  },
  {
   "cell_type": "code",
   "execution_count": 12,
   "id": "sporting-forty",
   "metadata": {},
   "outputs": [
    {
     "data": {
      "text/plain": [
       "84"
      ]
     },
     "execution_count": 12,
     "metadata": {},
     "output_type": "execute_result"
    }
   ],
   "source": [
    "def prod(*val):\n",
    "    res = 1\n",
    "    for i in val:\n",
    "        res *= i\n",
    "    return res\n",
    "\n",
    "def combinations(*args):\n",
    "    return prod(*args)\n",
    "\n",
    "combinations(3, 7, 4)"
   ]
  },
  {
   "cell_type": "code",
   "execution_count": 17,
   "id": "parallel-springer",
   "metadata": {},
   "outputs": [
    {
     "data": {
      "text/plain": [
       "'.... . .-.. .--.  -- .  -.-.-- '"
      ]
     },
     "execution_count": 17,
     "metadata": {},
     "output_type": "execute_result"
    }
   ],
   "source": [
    "def encode_morse(message):\n",
    "    cipher = ''\n",
    "    for letter in message:\n",
    "        if letter != ' ':\n",
    "            cipher += char_to_dots[letter] + ' '\n",
    "        else:\n",
    "            cipher += ' '\n",
    "  \n",
    "    return cipher\n",
    "\n",
    "\n",
    "char_to_dots = { 'A':'.-', 'B':'-...',\n",
    "                    'C':'-.-.', 'D':'-..', 'E':'.',\n",
    "                    'F':'..-.', 'G':'--.', 'H':'....',\n",
    "                    'I':'..', 'J':'.---', 'K':'-.-',\n",
    "                    'L':'.-..', 'M':'--', 'N':'-.',\n",
    "                    'O':'---', 'P':'.--.', 'Q':'--.-',\n",
    "                    'R':'.-.', 'S':'...', 'T':'-',\n",
    "                    'U':'..-', 'V':'...-', 'W':'.--',\n",
    "                    'X':'-..-', 'Y':'-.--', 'Z':'--..',\n",
    "                    '1':'.----', '2':'..---', '3':'...--',\n",
    "                    '4':'....-', '5':'.....', '6':'-....',\n",
    "                    '7':'--...', '8':'---..', '9':'----.',\n",
    "                    '0':'-----', ', ':'--..--', '.':'.-.-.-',\n",
    "                    '?':'..--..', '/':'-..-.', '-':'-....-',\n",
    "                    '(':'-.--.', ')':'-.--.-',\"!\": \"-.-.--\",}\n",
    "encode_morse(\"HELP ME !\")"
   ]
  },
  {
   "cell_type": "code",
   "execution_count": 32,
   "id": "related-notice",
   "metadata": {},
   "outputs": [
    {
     "data": {
      "text/plain": [
       "False"
      ]
     },
     "execution_count": 32,
     "metadata": {},
     "output_type": "execute_result"
    }
   ],
   "source": [
    "limit = 2 ** 75 - 1\n",
    "import math\n",
    "\n",
    "def prime(n):\n",
    "    limit = int(math.sqrt(n))\n",
    "    for prim in range(2,n):\n",
    "        if prim > limit: break\n",
    "        if n % prim == 0:\n",
    "            return False \n",
    "    return True\n",
    "\n",
    "prime(5151512515524)"
   ]
  },
  {
   "cell_type": "code",
   "execution_count": 60,
   "id": "permanent-destination",
   "metadata": {},
   "outputs": [
    {
     "ename": "IndexError",
     "evalue": "string index out of range",
     "output_type": "error",
     "traceback": [
      "\u001b[1;31m---------------------------------------------------------------------------\u001b[0m",
      "\u001b[1;31mIndexError\u001b[0m                                Traceback (most recent call last)",
      "\u001b[1;32m<ipython-input-60-65edf0ad10e1>\u001b[0m in \u001b[0;36m<module>\u001b[1;34m\u001b[0m\n\u001b[0;32m     27\u001b[0m \u001b[1;33m\u001b[0m\u001b[0m\n\u001b[0;32m     28\u001b[0m \u001b[1;33m\u001b[0m\u001b[0m\n\u001b[1;32m---> 29\u001b[1;33m \u001b[0mto_boolean_list\u001b[0m\u001b[1;33m(\u001b[0m\u001b[1;34m'deep'\u001b[0m\u001b[1;33m)\u001b[0m\u001b[1;33m\u001b[0m\u001b[1;33m\u001b[0m\u001b[0m\n\u001b[0m",
      "\u001b[1;32m<ipython-input-60-65edf0ad10e1>\u001b[0m in \u001b[0;36mto_boolean_list\u001b[1;34m(x)\u001b[0m\n\u001b[0;32m     10\u001b[0m             \u001b[1;32melif\u001b[0m \u001b[0malphabets\u001b[0m\u001b[1;33m[\u001b[0m\u001b[0mi\u001b[0m\u001b[1;33m]\u001b[0m \u001b[1;33m==\u001b[0m \u001b[0mx\u001b[0m\u001b[1;33m[\u001b[0m\u001b[1;36m3\u001b[0m\u001b[1;33m]\u001b[0m\u001b[1;33m:\u001b[0m\u001b[1;33m\u001b[0m\u001b[1;33m\u001b[0m\u001b[0m\n\u001b[0;32m     11\u001b[0m                 \u001b[0mx1\u001b[0m\u001b[1;33m.\u001b[0m\u001b[0mappend\u001b[0m\u001b[1;33m(\u001b[0m\u001b[1;36m0\u001b[0m\u001b[1;33m)\u001b[0m\u001b[1;33m\u001b[0m\u001b[1;33m\u001b[0m\u001b[0m\n\u001b[1;32m---> 12\u001b[1;33m             \u001b[1;32melif\u001b[0m \u001b[0malphabets\u001b[0m\u001b[1;33m[\u001b[0m\u001b[0mi\u001b[0m\u001b[1;33m]\u001b[0m \u001b[1;33m==\u001b[0m \u001b[0mx\u001b[0m\u001b[1;33m[\u001b[0m\u001b[1;36m4\u001b[0m\u001b[1;33m]\u001b[0m\u001b[1;33m:\u001b[0m\u001b[1;33m\u001b[0m\u001b[1;33m\u001b[0m\u001b[0m\n\u001b[0m\u001b[0;32m     13\u001b[0m                 \u001b[0mx1\u001b[0m\u001b[1;33m.\u001b[0m\u001b[0mappend\u001b[0m\u001b[1;33m(\u001b[0m\u001b[1;36m0\u001b[0m\u001b[1;33m)\u001b[0m\u001b[1;33m\u001b[0m\u001b[1;33m\u001b[0m\u001b[0m\n\u001b[0;32m     14\u001b[0m         \u001b[1;32melse\u001b[0m\u001b[1;33m:\u001b[0m\u001b[1;33m\u001b[0m\u001b[1;33m\u001b[0m\u001b[0m\n",
      "\u001b[1;31mIndexError\u001b[0m: string index out of range"
     ]
    }
   ],
   "source": [
    "def to_boolean_list(x):\n",
    "    alphabets = 'abcdefghijklmnopqrstuvwxyz'\n",
    "    x1 = []\n",
    "    for i in range(len(alphabets)):\n",
    "        if i % 2 == 0:\n",
    "       \n",
    "\n",
    "    print(x1)\n",
    "            \n",
    "            \n",
    "        \n",
    "        \n",
    "to_boolean_list('deep')"
   ]
  },
  {
   "cell_type": "code",
   "execution_count": null,
   "id": "built-rocket",
   "metadata": {},
   "outputs": [],
   "source": []
  },
  {
   "cell_type": "code",
   "execution_count": 83,
   "id": "objective-bracket",
   "metadata": {},
   "outputs": [
    {
     "name": "stdout",
     "output_type": "stream",
     "text": [
      "0110\n",
      "[False, True, True, False]\n"
     ]
    }
   ],
   "source": [
    "def encrypt(plain):\n",
    "    alphabet = 'abcdefghijklmnopqrwstuvwxyz'\n",
    "    answer = []\n",
    "    for letter in plain:\n",
    "        if alphabet.index(letter) % 2 == 0:\n",
    "            answer.append(1)\n",
    "        else:\n",
    "            answer.append(0)\n",
    "    str1 = (''.join([str(elem) for elem in answer]))\n",
    "    print(str1)\n",
    "    str2 = []\n",
    "    for i in str1:\n",
    "        if i == '0':\n",
    "            str2.append(False)\n",
    "        else:\n",
    "            str2.append(True)\n",
    "    print(str2)\n",
    "    \n",
    "    \n",
    "    \n",
    "    \n",
    "my_text = 'deep'\n",
    "encripted_text = encrypt(my_text)"
   ]
  },
  {
   "cell_type": "code",
   "execution_count": null,
   "id": "humanitarian-terrorist",
   "metadata": {},
   "outputs": [],
   "source": []
  }
 ],
 "metadata": {
  "kernelspec": {
   "display_name": "Python 3",
   "language": "python",
   "name": "python3"
  },
  "language_info": {
   "codemirror_mode": {
    "name": "ipython",
    "version": 3
   },
   "file_extension": ".py",
   "mimetype": "text/x-python",
   "name": "python",
   "nbconvert_exporter": "python",
   "pygments_lexer": "ipython3",
   "version": "3.7.6"
  }
 },
 "nbformat": 4,
 "nbformat_minor": 5
}
