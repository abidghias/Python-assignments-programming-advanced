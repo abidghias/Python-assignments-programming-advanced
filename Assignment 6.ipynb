{
 "cells": [
  {
   "cell_type": "code",
   "execution_count": 21,
   "id": "diagnostic-heath",
   "metadata": {},
   "outputs": [
    {
     "name": "stdout",
     "output_type": "stream",
     "text": [
      "e\n"
     ]
    }
   ],
   "source": [
    "def find_the_difference(x,y):\n",
    "    x1 = list(x)\n",
    "    y1 = list(y)\n",
    "    for i in y1:\n",
    "        if i not in x1 or len(x1) != len (y1):\n",
    "            print(y1[-1])\n",
    "            break\n",
    "        \n",
    "        \n",
    "find_the_difference(\"abcd\", \"abcde\")\n",
    "#find_the_difference(\"ae\", \"aea\")\n",
    "#find_the_difference(\"\", \"y\")"
   ]
  },
  {
   "cell_type": "code",
   "execution_count": 56,
   "id": "mental-asbestos",
   "metadata": {},
   "outputs": [
    {
     "name": "stdout",
     "output_type": "stream",
     "text": [
      "[1, 1, 3]\n"
     ]
    }
   ],
   "source": [
    "from collections import Counter\n",
    "def count_datatypes(*args):\n",
    "    x1 = list(args)\n",
    "    \n",
    "    l = []\n",
    "    l1 = []\n",
    "    for i in x1:\n",
    "        l.append(type(i))\n",
    "    for i in (Counter(l).items()):\n",
    "        (l1.append(i[1]))\n",
    "    print(l1)\n",
    "    \n",
    "#count_datatypes(1, 45, \"Hi\", False)\n",
    "count_datatypes([10, 20], (\"t\", \"Ok\"), 2, 3, 1)"
   ]
  },
  {
   "cell_type": "code",
   "execution_count": 20,
   "id": "hundred-rendering",
   "metadata": {},
   "outputs": [
    {
     "name": "stdout",
     "output_type": "stream",
     "text": [
      "h,j,h\n"
     ]
    }
   ],
   "source": [
    "def fibWord(n):\n",
    "    Sn_1 = \"j\"\n",
    "    Sn = \"h\"\n",
    "    tmp = \"\"\n",
    "    for i in range(n):\n",
    "        tmp = Sn\n",
    "        Sn += Sn_1\n",
    "        Sn_1 = tmp\n",
    "    return \",\".join(Sn_1)\n",
    "  \n",
    "# driver program\n",
    "n = 3\n",
    "print (fibWord(n))"
   ]
  },
  {
   "cell_type": "code",
   "execution_count": 25,
   "id": "artificial-flavor",
   "metadata": {},
   "outputs": [
    {
     "name": "stdout",
     "output_type": "stream",
     "text": [
      "['j', 'h']\n"
     ]
    }
   ],
   "source": [
    "def fib_str(x,y):\n",
    "    if x == 1:\n",
    "        return y[0]\n",
    "    else:\n",
    "        j = 0\n",
    "        l = []\n",
    "        l1 = []\n",
    "        for i in range(x):\n",
    "            l.append(y[j])\n",
    "            j += 1\n",
    "            \n",
    "    print(l)\n",
    "fib_str(2, [\"j\", \"h\"])   \n"
   ]
  },
  {
   "cell_type": "code",
   "execution_count": 46,
   "id": "traditional-pitch",
   "metadata": {},
   "outputs": [
    {
     "name": "stdout",
     "output_type": "stream",
     "text": [
      "2\n",
      "h, j, jh\n",
      "[]\n",
      "jh\n",
      "3\n",
      "h, j, jh, jhj\n",
      "[]\n",
      "jhj\n",
      "4\n",
      "h, j, jh, jhj, jhjjh\n",
      "[]\n",
      "jhjjh\n"
     ]
    },
    {
     "data": {
      "text/plain": [
       "1"
      ]
     },
     "execution_count": 46,
     "metadata": {},
     "output_type": "execute_result"
    }
   ],
   "source": [
    " \n",
    "def fibonacci(n):\n",
    "    a = \"h\"\n",
    "    b = \"j\"\n",
    "    temp = \"\"\n",
    "    l = []\n",
    "    # Check if n is equal to 1\n",
    "    if n == 1:\n",
    "        return a\n",
    "    else:\n",
    "        out = \", \".join([a,b])\n",
    "        for i in range(2, n):\n",
    "            temp = b\n",
    "            b = temp + a\n",
    "            a = temp\n",
    "            out = out + \", \" + b\n",
    "            print(i)\n",
    "            print(out)\n",
    "   \n",
    "           # print(temp)\n",
    "        return 1\n",
    " \n",
    "\n",
    "fibonacci(5)\n",
    " "
   ]
  },
  {
   "cell_type": "code",
   "execution_count": 78,
   "id": "enabling-joint",
   "metadata": {},
   "outputs": [
    {
     "data": {
      "text/plain": [
       "'nines: 1 threes: 2 ones 0'"
      ]
     },
     "execution_count": 78,
     "metadata": {},
     "output_type": "execute_result"
    }
   ],
   "source": [
    "def ones_threes_nines(x):\n",
    "    mod_9 = 0\n",
    "    mod_3 = 0\n",
    "    ones = 0\n",
    "    nines = 0\n",
    "    threes = 0\n",
    "    \n",
    "    \n",
    "    \n",
    "    if x > 9:\n",
    "        nines = x//9\n",
    "        mod_9 += x % 9\n",
    "        if mod_9 > 3:\n",
    "            threes = mod_9 // 3\n",
    "            mod_3 = mod_9 % 3\n",
    "            if mod_3 >= 1:\n",
    "                ones = mod_3 // 1\n",
    "    return \"nines: \" + str(nines) + \" threes: \" + str(threes) + \" ones \" + str(ones)\n",
    "\n",
    "\n",
    "ones_threes_nines(15)\n",
    "    "
   ]
  },
  {
   "cell_type": "code",
   "execution_count": 8,
   "id": "academic-customer",
   "metadata": {},
   "outputs": [
    {
     "name": "stdout",
     "output_type": "stream",
     "text": [
      "Give amount: 8\n",
      "21\n"
     ]
    }
   ],
   "source": [
    "a = int(input('Give amount: '))\n",
    "\n",
    "def fib(n):\n",
    "    a, b = 0, 1\n",
    "    for _ in range(n+1):\n",
    "        yield a\n",
    "        a, b = b, a + b\n",
    "\n",
    "print(list(fib(a))[-1])"
   ]
  },
  {
   "cell_type": "code",
   "execution_count": 9,
   "id": "accepted-mystery",
   "metadata": {},
   "outputs": [
    {
     "data": {
      "text/plain": [
       "8"
      ]
     },
     "execution_count": 9,
     "metadata": {},
     "output_type": "execute_result"
    }
   ],
   "source": [
    "def fib(n, computed = {0: 0, 1: 1}):\n",
    "    if n not in computed:\n",
    "        computed[n] = fib(n-1, computed) + fib(n-2, computed)\n",
    "    return computed[n]\n",
    "fib(6)"
   ]
  },
  {
   "cell_type": "code",
   "execution_count": null,
   "id": "funky-norway",
   "metadata": {},
   "outputs": [],
   "source": []
  },
  {
   "cell_type": "code",
   "execution_count": 22,
   "id": "sublime-church",
   "metadata": {},
   "outputs": [],
   "source": [
    "def fib_str(N, in_list):\n",
    "    \n",
    "    # Initializations\n",
    "    count = 2\n",
    "    L1 = in_list[0]\n",
    "    L2 = in_list[1]\n",
    "    \n",
    "    #  For situations where N < 2 \n",
    "    if N == 1:\n",
    "        return L1\n",
    "    elif N == 2:\n",
    "        return (\", \".join([L1,L2]))\n",
    "    \n",
    "    # For situations  where N > 2\n",
    "    else:\n",
    "        out_string = \", \".join([L1,L2])\n",
    "        while (count < N):\n",
    "            temp = L2\n",
    "            L2 =  L2 + L1\n",
    "            L1 = temp\n",
    "            out_string += \", \" + L2\n",
    "            count += 1\n",
    "        return out_string"
   ]
  },
  {
   "cell_type": "code",
   "execution_count": 26,
   "id": "hungarian-statement",
   "metadata": {},
   "outputs": [
    {
     "data": {
      "text/plain": [
       "'e, a, ae, aea, aeaae, aeaaeaea'"
      ]
     },
     "execution_count": 26,
     "metadata": {},
     "output_type": "execute_result"
    }
   ],
   "source": [
    "fib_str(6,[\"e\",\"a\"])"
   ]
  },
  {
   "cell_type": "code",
   "execution_count": null,
   "id": "musical-ceiling",
   "metadata": {},
   "outputs": [],
   "source": []
  }
 ],
 "metadata": {
  "kernelspec": {
   "display_name": "Python 3",
   "language": "python",
   "name": "python3"
  },
  "language_info": {
   "codemirror_mode": {
    "name": "ipython",
    "version": 3
   },
   "file_extension": ".py",
   "mimetype": "text/x-python",
   "name": "python",
   "nbconvert_exporter": "python",
   "pygments_lexer": "ipython3",
   "version": "3.7.6"
  }
 },
 "nbformat": 4,
 "nbformat_minor": 5
}
