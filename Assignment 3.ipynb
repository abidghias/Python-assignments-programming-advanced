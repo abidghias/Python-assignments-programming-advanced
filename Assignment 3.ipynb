{
 "cells": [
  {
   "cell_type": "code",
   "execution_count": 27,
   "id": "ranging-alloy",
   "metadata": {},
   "outputs": [
    {
     "name": "stdout",
     "output_type": "stream",
     "text": [
      "14 // 13 + 1 = 14\n"
     ]
    }
   ],
   "source": [
    "def arithmetic_operation(x):\n",
    "    x1 = x.split()\n",
    "    result = 0\n",
    "    start = 0\n",
    "    while start < len(x1):\n",
    "        if x1[start] == '+':\n",
    "            result = int(x1[start-1]) + int(x1[start+1])\n",
    "        if x1[start] == '-':\n",
    "            result = int(x1[start-1]) - int(x1[start+1])\n",
    "        if x1[start] == '//':\n",
    "            try:\n",
    "                result = int(x1[start-1]) / int(x1[start+1])\n",
    "                    \n",
    "            except ZeroDivisionError as e:\n",
    "                \n",
    "                return -1\n",
    "            result = int(x1[start-1]) / int(x1[start+1])\n",
    "        if x1[start] == '*':\n",
    "            result = int(x1[start-1]) * int(x1[start+1]) \n",
    "        start +=1\n",
    "        \n",
    "    print(str(result) + ' // ' + str(\" \".join(x1)) + ' = '+ str(result))\n",
    "    \n",
    "arithmetic_operation(\"13 + 1\")"
   ]
  },
  {
   "cell_type": "code",
   "execution_count": 18,
   "id": "interim-performance",
   "metadata": {},
   "outputs": [
    {
     "name": "stdout",
     "output_type": "stream",
     "text": [
      "enter x1 : -10\n",
      "enter y1 : -10\n",
      "enter x2 : 10\n",
      "enter y2 : 10\n",
      "enter x3 : -10\n",
      "enter y3 : 10\n",
      "68.28\n"
     ]
    }
   ],
   "source": [
    "import math\n",
    "x1=int(input(\"enter x1 : \"))\n",
    "y1=int(input(\"enter y1 : \"))\n",
    "x2=int(input(\"enter x2 : \"))\n",
    "y2=int(input(\"enter y2 : \"))\n",
    "x3=int(input(\"enter x3 : \"))\n",
    "y3=int(input(\"enter y3 : \"))\n",
    "resultx_y = ((((x2 - x1 )**2) + ((y2-y1)**2) )**0.5)\n",
    "\n",
    "resulty_z = ((((y3 - y2 )**2) + ((x3-x2)**2) )**0.5)\n",
    "\n",
    "resultx_z = ((((y3 - y1 )**2) + ((x3-x1)**2) )**0.5)\n",
    "\n",
    "result = resultx_y + resulty_z + resultx_z\n",
    "print(round(result,2))"
   ]
  },
  {
   "cell_type": "code",
   "execution_count": 152,
   "id": "egyptian-drinking",
   "metadata": {},
   "outputs": [
    {
     "name": "stdout",
     "output_type": "stream",
     "text": [
      "[1, 1, 1, 1, 0, 1, 1, 0, 0, 0, 1, 0, 0, 0, 0, 0]\n"
     ]
    },
    {
     "data": {
      "text/plain": [
       "4"
      ]
     },
     "execution_count": 152,
     "metadata": {},
     "output_type": "execute_result"
    }
   ],
   "source": [
    "def tallest_skyscraper(x):\n",
    "    temp_lst = []\n",
    "    start = 0\n",
    "    while start < len(x):\n",
    "        for sublist in x:\n",
    "            temp_lst.append(sublist[start])\n",
    "            result = [row[i] for row in x for i in row]\n",
    "            final_result = longest_repetition(result)\n",
    "            temp = 0\n",
    "            for i in result:\n",
    "                if i == 1:\n",
    "                    temp += 1\n",
    "                elif i == 0:\n",
    "                    break\n",
    "                    \n",
    "                    \n",
    "\n",
    "        \n",
    "        start += 1\n",
    "    print(result)\n",
    "    return temp\n",
    "    #print(\"final lists\", res1, \"\\n\", res2)\n",
    "    #print(slice_per(temp_lst,4))\n",
    "def slice_per(source, step):\n",
    "    return [source[i::step] for i in range(step)]     \n",
    "\n",
    "\n",
    "\n",
    "\n",
    "\n",
    "tallest_skyscraper([\n",
    "[0, 0, 1, 1],\n",
    "[0, 1, 0, 0],\n",
    "[0, 1, 1, 0],\n",
    "[1, 1, 1, 1]\n",
    "])"
   ]
  },
  {
   "cell_type": "code",
   "execution_count": 35,
   "id": "accomplished-opera",
   "metadata": {},
   "outputs": [
    {
     "name": "stdout",
     "output_type": "stream",
     "text": [
      "4\n",
      "[0, 0, 0, 1, 0, 1, 1, 1, 0, 0, 1, 1, 0, 0, 0, 1]\n",
      "Counter({0: 9, 1: 7})\n"
     ]
    },
    {
     "data": {
      "text/plain": [
       "7"
      ]
     },
     "execution_count": 35,
     "metadata": {},
     "output_type": "execute_result"
    }
   ],
   "source": [
    "from collections import Counter\n",
    "def tallest_skyscraper1(x):\n",
    "    tlist = list(zip(*x))  \n",
    "    temp = 0\n",
    "\n",
    "    out = [item for t in tlist for item in t]\n",
    "    print(len(x))\n",
    "    print(out)\n",
    "    z = Counter(out)\n",
    "    print(z)\n",
    "    start = 0\n",
    "    while start < len(out):\n",
    "        if out[start] == 1:\n",
    "            temp += 1\n",
    "        start += 1\n",
    "    tmp = []\n",
    "    \n",
    "    #you have to use some \n",
    "    #sort of for and if loop I suppose for this. with condition for i==i+1 and save in empty list then print(count(i))\n",
    "    \n",
    "    \n",
    "    \n",
    "        \n",
    "        \n",
    "        \n",
    "        \n",
    "        \n",
    "    return temp \n",
    "   \n",
    "\"\"\"r = out.count(1)\n",
    "    for i in out:\n",
    "        if i == 1:           \n",
    "            temp += 1\n",
    "        elif i == 0 :\n",
    "            temp = 0\n",
    "\"\"\"\n",
    "    \n",
    "    \n",
    "tallest_skyscraper1([\n",
    "[0, 0, 0, 0],\n",
    "[0, 1, 0, 0],\n",
    "[0, 1, 1, 0],\n",
    "[1, 1, 1, 1]\n",
    "])"
   ]
  },
  {
   "cell_type": "code",
   "execution_count": 55,
   "id": "technological-court",
   "metadata": {},
   "outputs": [
    {
     "name": "stdout",
     "output_type": "stream",
     "text": [
      "[0, 0, 0, 0, 1, 1, 1, 1, 1, 1, 0, 0, 0, 1, 1, 0, 0, 0, 0, 1] 5\n",
      "[(1, 0), (5, 1), (2, 2), (1, 3)]\n",
      "5\n"
     ]
    }
   ],
   "source": [
    "from collections import Counter\n",
    "def tallest_skyscraper1(x):\n",
    "    tlist = list(zip(*x))  \n",
    "    temp = 0\n",
    "\n",
    "    out = [item for t in tlist for item in t]\n",
    "    sky_height = len(x)\n",
    "    \n",
    "    print(out, sky_height)\n",
    "    \n",
    "    counter = 0\n",
    "    building = 0\n",
    "    height_list = []\n",
    "    while counter + sky_height <= len(out):\n",
    "        height_list.append((sum(out[counter:counter+sky_height]), building))\n",
    "        counter += sky_height\n",
    "        building += 1\n",
    "        \n",
    "    print(height_list)\n",
    "    \n",
    "    height_list.sort(reverse=True)\n",
    "    \n",
    "    print(height_list[0][0])\n",
    "    \n",
    "\n",
    "    \n",
    "    \n",
    "tallest_skyscraper1([\n",
    "[0, 1, 0, 0],\n",
    "[0, 1, 0, 0],\n",
    "[0, 1, 0, 0],\n",
    "[0, 1, 1, 0],\n",
    "[1, 1, 1, 1]\n",
    "])"
   ]
  },
  {
   "cell_type": "code",
   "execution_count": 170,
   "id": "identical-duplicate",
   "metadata": {},
   "outputs": [
    {
     "name": "stdout",
     "output_type": "stream",
     "text": [
      "[0, 0, 0, 0, 0, 1, 0, 0, 0, 1, 1, 0, 1, 1, 1, 1]\n",
      "[[0, 0, 1, 1], [0, 1, 0, 0], [0, 1, 1, 0], [1, 1, 1, 1]]\n"
     ]
    },
    {
     "data": {
      "text/plain": [
       "[(0, 0, 0, 1), (0, 1, 1, 1), (1, 0, 1, 1), (1, 0, 0, 1)]"
      ]
     },
     "execution_count": 170,
     "metadata": {},
     "output_type": "execute_result"
    }
   ],
   "source": [
    "x = [[0, 0, 1, 1],\n",
    "[0, 1, 0, 0],\n",
    "[0, 1, 1, 0],\n",
    "[1, 1, 1, 1]]\n",
    "\n",
    "resul1 = []\n",
    "result = [row[i] for row in x for i in row]\n",
    "print(result)\n",
    "print(x)\n",
    "tlist = list(zip(*x))\n",
    "tlist"
   ]
  },
  {
   "cell_type": "code",
   "execution_count": 31,
   "id": "under-india",
   "metadata": {},
   "outputs": [
    {
     "data": {
      "text/plain": [
       "3"
      ]
     },
     "execution_count": 31,
     "metadata": {},
     "output_type": "execute_result"
    }
   ],
   "source": [
    "def tallest_skyscraper2(x):\n",
    "    tlist = list(zip(*x))\n",
    "    temp = []\n",
    "    for x,y in enumerate(tlist):\n",
    "        temp.append((sum(y),x))\n",
    "    return sorted(temp,reverse=True)[0][0]\n",
    "    \n",
    "    \n",
    "        \n",
    "    \n",
    "    \n",
    "    \n",
    "    \n",
    "tallest_skyscraper2([\n",
    "[0, 0, 0, 0],\n",
    "[0, 1, 0, 0],\n",
    "[0, 1, 1, 0],\n",
    "[1, 1, 1, 1]\n",
    "])"
   ]
  },
  {
   "cell_type": "code",
   "execution_count": 208,
   "id": "capable-prevention",
   "metadata": {},
   "outputs": [
    {
     "name": "stdout",
     "output_type": "stream",
     "text": [
      "8200\n"
     ]
    }
   ],
   "source": [
    "def bonus(x):\n",
    "    result = 0\n",
    "    if x <= 32:\n",
    "        return 0\n",
    "    elif x >= 33 and x <= 40:\n",
    "        result += (x-32) * 325\n",
    "    elif x >= 41 and x <= 48:\n",
    "        result += (8*325) + (x-40) * 550\n",
    "    else:\n",
    "        result += (8*325) + (8*550) + (x-48) * 600\n",
    "    print(result)\n",
    "bonus(50)"
   ]
  },
  {
   "cell_type": "code",
   "execution_count": 235,
   "id": "iraqi-paper",
   "metadata": {},
   "outputs": [
    {
     "name": "stdout",
     "output_type": "stream",
     "text": [
      "3\n",
      "disarium number\n"
     ]
    }
   ],
   "source": [
    "def is_disarium(x):\n",
    "    rem = 0\n",
    "    s = 0\n",
    "    len1 = len(str(x))\n",
    "    print(len1)\n",
    "     \n",
    "#Makes a copy of the original number num    \n",
    "    n = x;    \n",
    "     \n",
    "#Calculates the sum of digits powered with their respective position    \n",
    "    while(x > 0):    \n",
    "        rem = x%10;    \n",
    "        s += int(rem**len1)\n",
    "        x = x//10 \n",
    "        len1 -= 1\n",
    "     \n",
    "#Checks whether the sum is equal to the number itself    \n",
    "    if(s == n):    \n",
    "        print( \"disarium number\");    \n",
    "    else:    \n",
    "        print(\" not a disarium number\");    \n",
    "is_disarium(518)"
   ]
  },
  {
   "cell_type": "code",
   "execution_count": null,
   "id": "nuclear-distance",
   "metadata": {},
   "outputs": [],
   "source": []
  },
  {
   "cell_type": "code",
   "execution_count": null,
   "id": "electronic-munich",
   "metadata": {},
   "outputs": [],
   "source": []
  },
  {
   "cell_type": "code",
   "execution_count": null,
   "id": "immediate-wichita",
   "metadata": {},
   "outputs": [],
   "source": []
  },
  {
   "cell_type": "code",
   "execution_count": 238,
   "id": "demographic-finder",
   "metadata": {},
   "outputs": [
    {
     "name": "stdout",
     "output_type": "stream",
     "text": [
      "[0, 0, 0, 1, 0, 1, 1, 1, 1, 0, 1, 1, 1, 0, 0, 1]\n"
     ]
    },
    {
     "data": {
      "text/plain": [
       "Counter({0: 7, 1: 9})"
      ]
     },
     "execution_count": 238,
     "metadata": {},
     "output_type": "execute_result"
    }
   ],
   "source": [
    "x = [0, 0, 1, 1] ,\n",
    "[0, 1, 0, 0],\n",
    "[0, 1, 1, 0],\n",
    "[1, 1, 1, 1]\n",
    "\n",
    "out = [item for t in tlist for item in t]\n",
    "print(out)\n",
    "z = Counter(out)\n",
    "z"
   ]
  },
  {
   "cell_type": "code",
   "execution_count": 16,
   "id": "typical-wireless",
   "metadata": {},
   "outputs": [],
   "source": [
    "import tkinter\n",
    "window = tkinter.Tk()\n",
    "window.title('GUI')\n",
    "label = tkinter.Label(window,text = 'hello world').pack() \n",
    "\n",
    "#label= Button(window,text='Enter')\n",
    "#label.grid(column = 1,row = 0)\n",
    "\n",
    "#l1 = Label(window,text = 'edureka')\n",
    "#l1.grid(column = 0 ,row = 0 )\n",
    "\n",
    "from tkinter import scrolledtext\n",
    "\n",
    "txt = scrolledtext\n",
    "\n",
    "window.geometry('850x200')\n",
    "window.mainloop()"
   ]
  },
  {
   "cell_type": "code",
   "execution_count": null,
   "id": "caring-feature",
   "metadata": {},
   "outputs": [],
   "source": []
  },
  {
   "cell_type": "code",
   "execution_count": null,
   "id": "favorite-dutch",
   "metadata": {},
   "outputs": [],
   "source": []
  }
 ],
 "metadata": {
  "kernelspec": {
   "display_name": "Python 3",
   "language": "python",
   "name": "python3"
  },
  "language_info": {
   "codemirror_mode": {
    "name": "ipython",
    "version": 3
   },
   "file_extension": ".py",
   "mimetype": "text/x-python",
   "name": "python",
   "nbconvert_exporter": "python",
   "pygments_lexer": "ipython3",
   "version": "3.7.6"
  }
 },
 "nbformat": 4,
 "nbformat_minor": 5
}
