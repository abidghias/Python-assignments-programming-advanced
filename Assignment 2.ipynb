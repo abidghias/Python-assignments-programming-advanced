{
 "cells": [
  {
   "cell_type": "code",
   "execution_count": 8,
   "id": "graphic-bunch",
   "metadata": {},
   "outputs": [
    {
     "data": {
      "text/plain": [
       "141"
      ]
     },
     "execution_count": 8,
     "metadata": {},
     "output_type": "execute_result"
    }
   ],
   "source": [
    "def pentagonal(n):\n",
    "    return (5 * n * n - 5 * n + 2) // 2\n",
    "\n",
    "pentagonal(8)"
   ]
  },
  {
   "cell_type": "code",
   "execution_count": 58,
   "id": "heavy-virtue",
   "metadata": {},
   "outputs": [
    {
     "data": {
      "text/plain": [
       "'k0r3baca'"
      ]
     },
     "execution_count": 58,
     "metadata": {},
     "output_type": "execute_result"
    }
   ],
   "source": [
    "def encrypt(x):\n",
    "    x1 = x[::-1]\n",
    "    x2 = []\n",
    "    result  = []\n",
    "    for i in x1:\n",
    "        if i == 'a':\n",
    "            x2.append(0)\n",
    "        elif i == 'e':\n",
    "            x2.append(1)\n",
    "        elif i == 'i':\n",
    "            x2.append(2)\n",
    "        elif i == 'o':\n",
    "            x2.append(2)\n",
    "        elif i == 'u':\n",
    "            x2.append(3)\n",
    "        else:\n",
    "            x2.append(i)\n",
    "    x2.append('aca')\n",
    "    return \"\".join(str(x3) for x3 in x2)\n",
    "\n",
    "    \n",
    "    \n",
    "    \n",
    "            \n",
    "    \n",
    "encrypt('burak')"
   ]
  },
  {
   "cell_type": "code",
   "execution_count": 74,
   "id": "comparable-flour",
   "metadata": {},
   "outputs": [
    {
     "data": {
      "text/plain": [
       "True"
      ]
     },
     "execution_count": 74,
     "metadata": {},
     "output_type": "execute_result"
    }
   ],
   "source": [
    "import datetime\n",
    "def has_friday_13(x,y):\n",
    "    if (datetime.datetime(y,x,13)).strftime('%a') == 'Fri':\n",
    "        return True\n",
    "    return False\n",
    "       \n",
    "    \n",
    "\n",
    "has_friday_13(10, 2017)"
   ]
  },
  {
   "cell_type": "code",
   "execution_count": 69,
   "id": "concerned-cathedral",
   "metadata": {},
   "outputs": [
    {
     "name": "stdout",
     "output_type": "stream",
     "text": [
      "Fri\n"
     ]
    }
   ],
   "source": [
    "x = datetime.datetime(2020,3,13)\n",
    "print(x.strftime(\"%a\"))"
   ]
  },
  {
   "cell_type": "code",
   "execution_count": 127,
   "id": "industrial-martin",
   "metadata": {},
   "outputs": [
    {
     "data": {
      "text/plain": [
       "['bad cookie', 'bad cookie']"
      ]
     },
     "execution_count": 127,
     "metadata": {},
     "output_type": "execute_result"
    }
   ],
   "source": [
    "lst = [\"bad cookie\", \"good cookie\", \"bad cookie\", \"good cookie\", \"good cookie\"]\n",
    "\n",
    "r1 = re.compile('r\"(?<!bad)cookie\"')\n",
    "\n",
    "r = re.compile(\"bad cookie\")\n",
    "newlist = list(filter(r.match, lst))\n",
    "newlist\n",
    "\n",
    "\n"
   ]
  },
  {
   "cell_type": "code",
   "execution_count": 119,
   "id": "democratic-witch",
   "metadata": {},
   "outputs": [
    {
     "name": "stdout",
     "output_type": "stream",
     "text": [
      "{'tables'}\n"
     ]
    }
   ],
   "source": [
    "def pluralize(x):\n",
    "    check_dict = {}\n",
    "    for i in x:\n",
    "        check_dict[i] = check_dict.get(i,0) + 1\n",
    "    return check_dict\n",
    "check_dict = pluralize([\"table\", \"table\", \"table\"])      \n",
    "\n",
    "\n",
    "\n",
    "\n",
    "result_dict = set()\n",
    "for key,val in check_dict.items():\n",
    "    if val > 1:\n",
    "        result_dict.add(key+'s')\n",
    "    else:\n",
    "        result_dict.add(key)\n",
    "print(result_dict)"
   ]
  },
  {
   "cell_type": "code",
   "execution_count": null,
   "id": "declared-annex",
   "metadata": {},
   "outputs": [],
   "source": []
  }
 ],
 "metadata": {
  "kernelspec": {
   "display_name": "Python 3",
   "language": "python",
   "name": "python3"
  },
  "language_info": {
   "codemirror_mode": {
    "name": "ipython",
    "version": 3
   },
   "file_extension": ".py",
   "mimetype": "text/x-python",
   "name": "python",
   "nbconvert_exporter": "python",
   "pygments_lexer": "ipython3",
   "version": "3.7.6"
  }
 },
 "nbformat": 4,
 "nbformat_minor": 5
}
