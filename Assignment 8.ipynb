{
 "cells": [
  {
   "cell_type": "code",
   "execution_count": 26,
   "id": "overhead-portland",
   "metadata": {},
   "outputs": [
    {
     "name": "stdout",
     "output_type": "stream",
     "text": [
      "True\n",
      "False\n"
     ]
    }
   ],
   "source": [
    "def vowel_links(x):\n",
    "    letters = list(x.lower())\n",
    "    start = 0\n",
    "    while start < len(letters):\n",
    "        if letters[start] == \" \":\n",
    "            vowels = ['a', 'e', 'i', 'o', 'u']\n",
    "            if (letters[start-1] in vowels) and (letters[start+1] in vowels):\n",
    "                return True\n",
    "        start += 1\n",
    "    return False\n",
    "        \n",
    "print(vowel_links(\"a very large Appliance\"))\n",
    "print(vowel_links(\"an open fire\"))"
   ]
  },
  {
   "cell_type": "code",
   "execution_count": 84,
   "id": "optical-heating",
   "metadata": {},
   "outputs": [],
   "source": [
    "def first_before_second(string,first,second):\n",
    "    start = 0\n",
    "    x = -1\n",
    "    lst1 = []    \n",
    "    lst2 = []\n",
    "    x = string.rfind(first)\n",
    "    y = string.find(second)   \n",
    "    print(x)\n",
    "    print(y)\n",
    "    if x > y:\n",
    "        return False\n",
    "    return True\n"
   ]
  },
  {
   "cell_type": "code",
   "execution_count": 85,
   "id": "radio-representation",
   "metadata": {},
   "outputs": [
    {
     "name": "stdout",
     "output_type": "stream",
     "text": [
      "8\n",
      "10\n"
     ]
    },
    {
     "data": {
      "text/plain": [
       "True"
      ]
     },
     "execution_count": 85,
     "metadata": {},
     "output_type": "execute_result"
    }
   ],
   "source": [
    "first_before_second(\"a rabbita jumps joyfully\",\"a\",\"j\")"
   ]
  },
  {
   "cell_type": "code",
   "execution_count": 86,
   "id": "peaceful-currency",
   "metadata": {},
   "outputs": [
    {
     "name": "stdout",
     "output_type": "stream",
     "text": [
      "12\n",
      "4\n"
     ]
    },
    {
     "data": {
      "text/plain": [
       "False"
      ]
     },
     "execution_count": 86,
     "metadata": {},
     "output_type": "execute_result"
    }
   ],
   "source": [
    "first_before_second(\"happy birthday\", \"a\", \"y\")"
   ]
  },
  {
   "cell_type": "code",
   "execution_count": 113,
   "id": "plastic-cigarette",
   "metadata": {},
   "outputs": [],
   "source": [
    "def char_at_pos(x,y):    \n",
    "    x1 = list(x)\n",
    "    even_list = [x1[i] for i in range(1,len(x1),2) if y == 'even']\n",
    "    odd_list = [x1[i] for i in range(0,len(x1),2) if y == 'odd']\n",
    "    if type(x) == str:\n",
    "        return \"\".join(even_list + odd_list)\n",
    "    return even_list + odd_list\n"
   ]
  },
  {
   "cell_type": "code",
   "execution_count": 119,
   "id": "forced-hollow",
   "metadata": {},
   "outputs": [
    {
     "data": {
      "text/plain": [
       "[2, 6, 10]"
      ]
     },
     "execution_count": 119,
     "metadata": {},
     "output_type": "execute_result"
    }
   ],
   "source": [
    "char_at_pos([2,4,6,8,10], \"odd\")"
   ]
  },
  {
   "cell_type": "code",
   "execution_count": 201,
   "id": "occupational-blind",
   "metadata": {},
   "outputs": [
    {
     "data": {
      "text/plain": [
       "'EAI'"
      ]
     },
     "execution_count": 201,
     "metadata": {},
     "output_type": "execute_result"
    }
   ],
   "source": [
    "def char_at_pos(x,y):    \n",
    "    x1 = list(x)\n",
    "    even_list = []\n",
    "    odd_list = []\n",
    "    if y == 'even': even_list = x1[1::2] \n",
    "    elif y == 'odd': odd_list = x1[0::2] \n",
    "    if type(x) == str:\n",
    "        return \"\".join(even_list + odd_list)\n",
    "    return even_list + odd_list\n",
    "char_at_pos(\"EDABIT\", \"odd\")"
   ]
  },
  {
   "cell_type": "code",
   "execution_count": 200,
   "id": "lightweight-sewing",
   "metadata": {},
   "outputs": [],
   "source": [
    "#4\n",
    "def GCD(in_list):\n",
    "    \n",
    "    GCD_match = 0\n",
    "    prev_i = 1\n",
    "            \n",
    "    for i in range(min(in_list) + 1,1,-1): \n",
    "        \n",
    "        GCD_match = 0\n",
    "        \n",
    "        for num in in_list:\n",
    "            \n",
    "            if num % i == 0:\n",
    "                GCD_match += 1\n",
    "              \n",
    "        if GCD_match == len(in_list): \n",
    "            return i\n",
    "                \n",
    "    \n",
    "    return prev_i\n"
   ]
  },
  {
   "cell_type": "code",
   "execution_count": 184,
   "id": "impaired-metadata",
   "metadata": {},
   "outputs": [
    {
     "data": {
      "text/plain": [
       "10"
      ]
     },
     "execution_count": 184,
     "metadata": {},
     "output_type": "execute_result"
    }
   ],
   "source": [
    "GCD([10, 20, 40])"
   ]
  },
  {
   "cell_type": "code",
   "execution_count": 185,
   "id": "prostate-calculator",
   "metadata": {},
   "outputs": [
    {
     "data": {
      "text/plain": [
       "64"
      ]
     },
     "execution_count": 185,
     "metadata": {},
     "output_type": "execute_result"
    }
   ],
   "source": [
    "GCD([1024, 192, 2048, 512])"
   ]
  },
  {
   "cell_type": "code",
   "execution_count": 197,
   "id": "processed-level",
   "metadata": {},
   "outputs": [],
   "source": [
    "#5\n",
    "def palindrome_type(x):\n",
    "    dec_ = 0\n",
    "    out_string = \"Neither\"\n",
    "\n",
    "    x1 =  list(map(int, str(x)))\n",
    "    if x1 == x1[::-1]:\n",
    "        dec_ = 1\n",
    "        out_string = \"Decimal\"\n",
    "        \n",
    "    x2 = (bin(x).replace(\"0b\", \"\"))\n",
    "    if x2 == x2[::-1]:\n",
    "        out_string = \"Binary\"\n",
    "        if dec_ == 1: out_string =  \"Both\"\n",
    "            \n",
    "    return out_string"
   ]
  },
  {
   "cell_type": "code",
   "execution_count": 198,
   "id": "proper-fellow",
   "metadata": {},
   "outputs": [
    {
     "data": {
      "text/plain": [
       "'Binary'"
      ]
     },
     "execution_count": 198,
     "metadata": {},
     "output_type": "execute_result"
    }
   ],
   "source": [
    "palindrome_type(427787)"
   ]
  },
  {
   "cell_type": "code",
   "execution_count": null,
   "id": "confidential-export",
   "metadata": {},
   "outputs": [],
   "source": []
  },
  {
   "cell_type": "code",
   "execution_count": null,
   "id": "descending-legend",
   "metadata": {},
   "outputs": [],
   "source": []
  }
 ],
 "metadata": {
  "kernelspec": {
   "display_name": "Python 3",
   "language": "python",
   "name": "python3"
  },
  "language_info": {
   "codemirror_mode": {
    "name": "ipython",
    "version": 3
   },
   "file_extension": ".py",
   "mimetype": "text/x-python",
   "name": "python",
   "nbconvert_exporter": "python",
   "pygments_lexer": "ipython3",
   "version": "3.6.9"
  }
 },
 "nbformat": 4,
 "nbformat_minor": 5
}
