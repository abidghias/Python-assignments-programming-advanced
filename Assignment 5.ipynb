{
 "cells": [
  {
   "cell_type": "code",
   "execution_count": 9,
   "id": "classical-priority",
   "metadata": {},
   "outputs": [
    {
     "data": {
      "text/plain": [
       "2"
      ]
     },
     "execution_count": 9,
     "metadata": {},
     "output_type": "execute_result"
    }
   ],
   "source": [
    "def f(x):\n",
    "    arr = [8,2]\n",
    "    return arr[x%2]\n",
    "    \n",
    "f(3)    "
   ]
  },
  {
   "cell_type": "code",
   "execution_count": 68,
   "id": "south-serve",
   "metadata": {},
   "outputs": [
    {
     "data": {
      "text/plain": [
       "'A'"
      ]
     },
     "execution_count": 68,
     "metadata": {},
     "output_type": "execute_result"
    }
   ],
   "source": [
    "def majority_vote(x):\n",
    "    temp = []\n",
    "    for i in x:\n",
    "        temp.append(x.count(i))\n",
    "    temp.sort()\n",
    "    if temp[-1] > len(x) /2:\n",
    "        return max(set(x),key= x.count)\n",
    "    \n",
    "majority_vote([\"A\", \"A\", \"A\",\"A\",\"A\",\"A\",\"B\",\"C\",\"C\",\"C\",\"C\"])\n",
    "            "
   ]
  },
  {
   "cell_type": "code",
   "execution_count": 27,
   "id": "talented-alert",
   "metadata": {},
   "outputs": [
    {
     "name": "stdout",
     "output_type": "stream",
     "text": [
      "The * jumped * the moon.\n"
     ]
    }
   ],
   "source": [
    "def censor_string(x,y,z):\n",
    "    x1 = list(x)\n",
    "    j = 0\n",
    "    for i in y:\n",
    "        if i in x:\n",
    "            x = x.replace(i,z)\n",
    "    print(x)\n",
    "censor_string('The cow jumped over the moon.', ['cow', 'over'], \"*\")"
   ]
  },
  {
   "cell_type": "code",
   "execution_count": 26,
   "id": "restricted-husband",
   "metadata": {},
   "outputs": [
    {
     "name": "stdout",
     "output_type": "stream",
     "text": [
      "123220 is Not Polydivisible number.\n"
     ]
    }
   ],
   "source": [
    "def check_polydivisible(n):\n",
    "    N = n\n",
    "    digit = []\n",
    "  \n",
    "    # digit extraction of input number\n",
    "    while (n > 0):\n",
    "          \n",
    "        # store the digits in an array\n",
    "        digit.append(n % 10)\n",
    "        n /= 10\n",
    "  \n",
    "    digit.reverse()\n",
    "    \n",
    "    flag = True\n",
    "    n = digit[0]\n",
    "    for i in range(1, len(digit), 1):\n",
    "          \n",
    "        # n contains first i digits\n",
    "        n = n * 10 + digit[i]\n",
    "  \n",
    "        # n should be divisible by i\n",
    "        if (n % (i + 1) != 0):\n",
    "            flag = False\n",
    "            break\n",
    "      \n",
    "    if (flag):\n",
    "        print(N, \"is Polydivisible number.\");\n",
    "    else:\n",
    "        print(N, \"is Not Polydivisible number.\")\n",
    "  \n",
    "# Driver Code\n",
    "check_polydivisible(123220)\n",
    "  \n",
    "      \n"
   ]
  },
  {
   "cell_type": "code",
   "execution_count": 27,
   "id": "incorporated-extreme",
   "metadata": {},
   "outputs": [
    {
     "name": "stdout",
     "output_type": "stream",
     "text": [
      "17\n"
     ]
    }
   ],
   "source": [
    "def prime(n): \n",
    "    if n <= 0: \n",
    "        return \"Not defined\" \n",
    "    elif n == 1: \n",
    "        return \"Not prime\" \n",
    "    for i in range(2, int(n)):        \n",
    "        if n%i == 0: \n",
    "            return 1\n",
    "    return 0\n",
    " \n",
    " \n",
    " \n",
    "def list_prime(lst): \n",
    "\tprime_list =[ ] \n",
    "\tfor i in lst: \n",
    "\t\tx = prime(i) \n",
    "\t\tif x == 0: \n",
    "\t\t\tprime_list.append(i) \n",
    "\treturn sum(prime_list) \n",
    "\t \n",
    "print(list_prime([1,2,3,4,5,6,7,8,9,10])) "
   ]
  },
  {
   "cell_type": "code",
   "execution_count": null,
   "id": "trying-capability",
   "metadata": {},
   "outputs": [],
   "source": []
  },
  {
   "cell_type": "code",
   "execution_count": null,
   "id": "announced-compiler",
   "metadata": {},
   "outputs": [],
   "source": []
  },
  {
   "cell_type": "code",
   "execution_count": null,
   "id": "wicked-vector",
   "metadata": {},
   "outputs": [],
   "source": []
  }
 ],
 "metadata": {
  "kernelspec": {
   "display_name": "Python 3",
   "language": "python",
   "name": "python3"
  },
  "language_info": {
   "codemirror_mode": {
    "name": "ipython",
    "version": 3
   },
   "file_extension": ".py",
   "mimetype": "text/x-python",
   "name": "python",
   "nbconvert_exporter": "python",
   "pygments_lexer": "ipython3",
   "version": "3.7.6"
  }
 },
 "nbformat": 4,
 "nbformat_minor": 5
}
